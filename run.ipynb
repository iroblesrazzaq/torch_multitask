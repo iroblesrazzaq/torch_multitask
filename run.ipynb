{
 "cells": [
  {
   "cell_type": "code",
   "execution_count": 1,
   "metadata": {},
   "outputs": [],
   "source": [
    "import os\n",
    "import numpy as np\n",
    "import torch\n",
    "import torch.optim as optim\n",
    "from collections import defaultdict\n",
    "import time\n",
    "\n",
    "# Import your custom modules\n",
    "import tools\n",
    "from network import Model\n",
    "from task import generate_trials, rules_dict"
   ]
  },
  {
   "cell_type": "code",
   "execution_count": 2,
   "metadata": {},
   "outputs": [],
   "source": [
    "# Cell 1: Set up the environment and hyperparameters\n",
    "model_dir = 'data/debug'\n",
    "os.makedirs(model_dir, exist_ok=True)\n",
    "\n",
    "hp = {\n",
    "    'activation': 'relu',\n",
    "    'n_rnn': 256,\n",
    "    'learning_rate': 0.001,\n",
    "    'l2_h': 0.,\n",
    "    'use_separate_input': False,\n",
    "    'ruleset': 'all',\n",
    "    'batch_size_train': 64,\n",
    "    'batch_size_test': 512,\n",
    "    'seed': 0\n",
    "}"
   ]
  },
  {
   "cell_type": "code",
   "execution_count": 3,
   "metadata": {},
   "outputs": [
    {
     "name": "stdout",
     "output_type": "stream",
     "text": [
      "Using device: cpu\n"
     ]
    }
   ],
   "source": [
    "# Cell 2: Initialize the model and other components\n",
    "device = torch.device(\"cuda\" if torch.cuda.is_available() else \"cpu\")\n",
    "print(f\"Using device: {device}\")\n",
    "\n",
    "# Get default hyperparameters and update with custom ones\n",
    "default_hp = tools.get_default_hp(hp['ruleset'])\n",
    "default_hp.update(hp)\n",
    "hp = default_hp\n",
    "\n",
    "# Set random seed\n",
    "np.random.seed(hp['seed'])\n",
    "torch.manual_seed(hp['seed'])\n",
    "hp['rng'] = np.random.RandomState(hp['seed'])\n",
    "\n"
   ]
  },
  {
   "cell_type": "code",
   "execution_count": 4,
   "metadata": {},
   "outputs": [
    {
     "data": {
      "text/plain": [
       "{'batch_size_train': 64,\n",
       " 'batch_size_test': 512,\n",
       " 'in_type': 'normal',\n",
       " 'rnn_type': 'LeakyRNN',\n",
       " 'use_separate_input': False,\n",
       " 'loss_type': 'lsq',\n",
       " 'optimizer': 'adam',\n",
       " 'activation': 'relu',\n",
       " 'tau': 100,\n",
       " 'dt': 20,\n",
       " 'alpha': 0.2,\n",
       " 'sigma_rec': 0.05,\n",
       " 'sigma_x': 0.01,\n",
       " 'w_rec_init': 'randortho',\n",
       " 'l1_h': 0,\n",
       " 'l2_h': 0.0,\n",
       " 'l1_weight': 0,\n",
       " 'l2_weight': 0,\n",
       " 'l2_weight_init': 0,\n",
       " 'p_weight_train': None,\n",
       " 'target_perf': 1.0,\n",
       " 'n_eachring': 32,\n",
       " 'num_ring': 2,\n",
       " 'n_rule': 20,\n",
       " 'rule_start': 65,\n",
       " 'n_input': 85,\n",
       " 'n_output': 33,\n",
       " 'n_rnn': 256,\n",
       " 'ruleset': 'all',\n",
       " 'save_name': 'test',\n",
       " 'learning_rate': 0.001,\n",
       " 'c_intsyn': 0,\n",
       " 'ksi_intsyn': 0,\n",
       " 'seed': 0,\n",
       " 'rng': RandomState(MT19937) at 0x105E95240}"
      ]
     },
     "execution_count": 4,
     "metadata": {},
     "output_type": "execute_result"
    }
   ],
   "source": [
    "hp"
   ]
  },
  {
   "cell_type": "code",
   "execution_count": 5,
   "metadata": {},
   "outputs": [
    {
     "name": "stdout",
     "output_type": "stream",
     "text": [
      "Model(\n",
      "  (rnn): LeakyRNNCell()\n",
      "  (output): Linear(in_features=256, out_features=33, bias=True)\n",
      ")\n"
     ]
    },
    {
     "name": "stderr",
     "output_type": "stream",
     "text": [
      "/Users/ismaelrobles-razzaq/cs_projects/venv1/lib/python3.11/site-packages/tqdm/auto.py:21: TqdmWarning: IProgress not found. Please update jupyter and ipywidgets. See https://ipywidgets.readthedocs.io/en/stable/user_install.html\n",
      "  from .autonotebook import tqdm as notebook_tqdm\n"
     ]
    }
   ],
   "source": [
    "# Initialize the model\n",
    "model = Model(model_dir, hp=hp).to(device)\n",
    "print(model)\n",
    "\n",
    "# Set up the optimizer\n",
    "optimizer = optim.Adam(model.parameters(), lr=hp['learning_rate'])"
   ]
  },
  {
   "cell_type": "code",
   "execution_count": 6,
   "metadata": {},
   "outputs": [
    {
     "name": "stdout",
     "output_type": "stream",
     "text": [
      "Generated trial for rule: delaydm2\n",
      "Trial x shape: (167, 64, 85)\n",
      "Trial y shape: (167, 64, 33)\n"
     ]
    }
   ],
   "source": [
    "# Cell 3: Generate a trial batch\n",
    "rule_train = np.random.choice(rules_dict[hp['ruleset']])\n",
    "trial = generate_trials(rule_train, hp, 'random', batch_size=hp['batch_size_train'])\n",
    "\n",
    "print(f\"Generated trial for rule: {rule_train}\")\n",
    "print(f\"Trial x shape: {trial.x.shape}\")\n",
    "print(f\"Trial y shape: {trial.y.shape}\")\n"
   ]
  },
  {
   "cell_type": "code",
   "execution_count": 7,
   "metadata": {},
   "outputs": [
    {
     "name": "stdout",
     "output_type": "stream",
     "text": [
      "Input x shape: torch.Size([167, 64, 85])\n",
      "Input y shape: torch.Size([167, 64, 33])\n",
      "Input c_mask shape: torch.Size([10688, 33])\n"
     ]
    }
   ],
   "source": [
    "# Cell 4: Prepare input data\n",
    "feed_dict = tools.gen_feed_dict(model, trial, hp)\n",
    "x = feed_dict['x'].to(device)\n",
    "y = feed_dict['y'].to(device)\n",
    "c_mask = feed_dict['c_mask'].to(device)\n",
    "\n",
    "print(f\"Input x shape: {x.shape}\")\n",
    "print(f\"Input y shape: {y.shape}\")\n",
    "print(f\"Input c_mask shape: {c_mask.shape}\")"
   ]
  },
  {
   "cell_type": "code",
   "execution_count": 8,
   "metadata": {},
   "outputs": [
    {
     "name": "stdout",
     "output_type": "stream",
     "text": [
      "Forward pass successful\n",
      "Output y_hat shape: torch.Size([64, 167, 33])\n",
      "Loss: 0.7037319540977478\n"
     ]
    }
   ],
   "source": [
    "# Cell 5: Forward pass\n",
    "#try:\n",
    "y_hat, loss = model(x, y, c_mask)\n",
    "print(f\"Forward pass successful\")\n",
    "print(f\"Output y_hat shape: {y_hat.shape}\")\n",
    "print(f\"Loss: {loss.item()}\")\n",
    "#except Exception as e:\n",
    " #   print(f\"Error during forward pass: {str(e)}\")"
   ]
  },
  {
   "cell_type": "code",
   "execution_count": 9,
   "metadata": {},
   "outputs": [
    {
     "name": "stdout",
     "output_type": "stream",
     "text": [
      "Backward pass successful\n"
     ]
    }
   ],
   "source": [
    "# Cell 6: Backward pass\n",
    "try:\n",
    "    optimizer.zero_grad()\n",
    "    loss.backward()\n",
    "    optimizer.step()\n",
    "    print(\"Backward pass successful\")\n",
    "except Exception as e:\n",
    "    print(f\"Error during backward pass: {str(e)}\")"
   ]
  },
  {
   "cell_type": "code",
   "execution_count": 11,
   "metadata": {},
   "outputs": [
    {
     "name": "stdout",
     "output_type": "stream",
     "text": [
      "Step 199, Loss: 0.5908538699150085\n",
      "Step 399, Loss: 0.6890640258789062\n",
      "Step 599, Loss: 0.8082853555679321\n",
      "Step 799, Loss: 0.7825618386268616\n"
     ]
    },
    {
     "ename": "KeyboardInterrupt",
     "evalue": "",
     "output_type": "error",
     "traceback": [
      "\u001b[0;31m---------------------------------------------------------------------------\u001b[0m",
      "\u001b[0;31mKeyboardInterrupt\u001b[0m                         Traceback (most recent call last)",
      "Cell \u001b[0;32mIn[11], line 16\u001b[0m\n\u001b[1;32m     14\u001b[0m optimizer\u001b[38;5;241m.\u001b[39mzero_grad()\n\u001b[1;32m     15\u001b[0m y_hat, loss \u001b[38;5;241m=\u001b[39m model(x, y, c_mask)\n\u001b[0;32m---> 16\u001b[0m \u001b[43mloss\u001b[49m\u001b[38;5;241;43m.\u001b[39;49m\u001b[43mbackward\u001b[49m\u001b[43m(\u001b[49m\u001b[43m)\u001b[49m\n\u001b[1;32m     17\u001b[0m optimizer\u001b[38;5;241m.\u001b[39mstep()\n\u001b[1;32m     19\u001b[0m log[\u001b[38;5;124m'\u001b[39m\u001b[38;5;124mloss\u001b[39m\u001b[38;5;124m'\u001b[39m]\u001b[38;5;241m.\u001b[39mappend(loss\u001b[38;5;241m.\u001b[39mitem())\n",
      "File \u001b[0;32m~/cs_projects/venv1/lib/python3.11/site-packages/torch/_tensor.py:525\u001b[0m, in \u001b[0;36mTensor.backward\u001b[0;34m(self, gradient, retain_graph, create_graph, inputs)\u001b[0m\n\u001b[1;32m    515\u001b[0m \u001b[38;5;28;01mif\u001b[39;00m has_torch_function_unary(\u001b[38;5;28mself\u001b[39m):\n\u001b[1;32m    516\u001b[0m     \u001b[38;5;28;01mreturn\u001b[39;00m handle_torch_function(\n\u001b[1;32m    517\u001b[0m         Tensor\u001b[38;5;241m.\u001b[39mbackward,\n\u001b[1;32m    518\u001b[0m         (\u001b[38;5;28mself\u001b[39m,),\n\u001b[0;32m   (...)\u001b[0m\n\u001b[1;32m    523\u001b[0m         inputs\u001b[38;5;241m=\u001b[39minputs,\n\u001b[1;32m    524\u001b[0m     )\n\u001b[0;32m--> 525\u001b[0m \u001b[43mtorch\u001b[49m\u001b[38;5;241;43m.\u001b[39;49m\u001b[43mautograd\u001b[49m\u001b[38;5;241;43m.\u001b[39;49m\u001b[43mbackward\u001b[49m\u001b[43m(\u001b[49m\n\u001b[1;32m    526\u001b[0m \u001b[43m    \u001b[49m\u001b[38;5;28;43mself\u001b[39;49m\u001b[43m,\u001b[49m\u001b[43m \u001b[49m\u001b[43mgradient\u001b[49m\u001b[43m,\u001b[49m\u001b[43m \u001b[49m\u001b[43mretain_graph\u001b[49m\u001b[43m,\u001b[49m\u001b[43m \u001b[49m\u001b[43mcreate_graph\u001b[49m\u001b[43m,\u001b[49m\u001b[43m \u001b[49m\u001b[43minputs\u001b[49m\u001b[38;5;241;43m=\u001b[39;49m\u001b[43minputs\u001b[49m\n\u001b[1;32m    527\u001b[0m \u001b[43m\u001b[49m\u001b[43m)\u001b[49m\n",
      "File \u001b[0;32m~/cs_projects/venv1/lib/python3.11/site-packages/torch/autograd/__init__.py:267\u001b[0m, in \u001b[0;36mbackward\u001b[0;34m(tensors, grad_tensors, retain_graph, create_graph, grad_variables, inputs)\u001b[0m\n\u001b[1;32m    262\u001b[0m     retain_graph \u001b[38;5;241m=\u001b[39m create_graph\n\u001b[1;32m    264\u001b[0m \u001b[38;5;66;03m# The reason we repeat the same comment below is that\u001b[39;00m\n\u001b[1;32m    265\u001b[0m \u001b[38;5;66;03m# some Python versions print out the first line of a multi-line function\u001b[39;00m\n\u001b[1;32m    266\u001b[0m \u001b[38;5;66;03m# calls in the traceback and some print out the last line\u001b[39;00m\n\u001b[0;32m--> 267\u001b[0m \u001b[43m_engine_run_backward\u001b[49m\u001b[43m(\u001b[49m\n\u001b[1;32m    268\u001b[0m \u001b[43m    \u001b[49m\u001b[43mtensors\u001b[49m\u001b[43m,\u001b[49m\n\u001b[1;32m    269\u001b[0m \u001b[43m    \u001b[49m\u001b[43mgrad_tensors_\u001b[49m\u001b[43m,\u001b[49m\n\u001b[1;32m    270\u001b[0m \u001b[43m    \u001b[49m\u001b[43mretain_graph\u001b[49m\u001b[43m,\u001b[49m\n\u001b[1;32m    271\u001b[0m \u001b[43m    \u001b[49m\u001b[43mcreate_graph\u001b[49m\u001b[43m,\u001b[49m\n\u001b[1;32m    272\u001b[0m \u001b[43m    \u001b[49m\u001b[43minputs\u001b[49m\u001b[43m,\u001b[49m\n\u001b[1;32m    273\u001b[0m \u001b[43m    \u001b[49m\u001b[43mallow_unreachable\u001b[49m\u001b[38;5;241;43m=\u001b[39;49m\u001b[38;5;28;43;01mTrue\u001b[39;49;00m\u001b[43m,\u001b[49m\n\u001b[1;32m    274\u001b[0m \u001b[43m    \u001b[49m\u001b[43maccumulate_grad\u001b[49m\u001b[38;5;241;43m=\u001b[39;49m\u001b[38;5;28;43;01mTrue\u001b[39;49;00m\u001b[43m,\u001b[49m\n\u001b[1;32m    275\u001b[0m \u001b[43m\u001b[49m\u001b[43m)\u001b[49m\n",
      "File \u001b[0;32m~/cs_projects/venv1/lib/python3.11/site-packages/torch/autograd/graph.py:744\u001b[0m, in \u001b[0;36m_engine_run_backward\u001b[0;34m(t_outputs, *args, **kwargs)\u001b[0m\n\u001b[1;32m    742\u001b[0m     unregister_hooks \u001b[38;5;241m=\u001b[39m _register_logging_hooks_on_whole_graph(t_outputs)\n\u001b[1;32m    743\u001b[0m \u001b[38;5;28;01mtry\u001b[39;00m:\n\u001b[0;32m--> 744\u001b[0m     \u001b[38;5;28;01mreturn\u001b[39;00m \u001b[43mVariable\u001b[49m\u001b[38;5;241;43m.\u001b[39;49m\u001b[43m_execution_engine\u001b[49m\u001b[38;5;241;43m.\u001b[39;49m\u001b[43mrun_backward\u001b[49m\u001b[43m(\u001b[49m\u001b[43m  \u001b[49m\u001b[38;5;66;43;03m# Calls into the C++ engine to run the backward pass\u001b[39;49;00m\n\u001b[1;32m    745\u001b[0m \u001b[43m        \u001b[49m\u001b[43mt_outputs\u001b[49m\u001b[43m,\u001b[49m\u001b[43m \u001b[49m\u001b[38;5;241;43m*\u001b[39;49m\u001b[43margs\u001b[49m\u001b[43m,\u001b[49m\u001b[43m \u001b[49m\u001b[38;5;241;43m*\u001b[39;49m\u001b[38;5;241;43m*\u001b[39;49m\u001b[43mkwargs\u001b[49m\n\u001b[1;32m    746\u001b[0m \u001b[43m    \u001b[49m\u001b[43m)\u001b[49m  \u001b[38;5;66;03m# Calls into the C++ engine to run the backward pass\u001b[39;00m\n\u001b[1;32m    747\u001b[0m \u001b[38;5;28;01mfinally\u001b[39;00m:\n\u001b[1;32m    748\u001b[0m     \u001b[38;5;28;01mif\u001b[39;00m attach_logging_hooks:\n",
      "\u001b[0;31mKeyboardInterrupt\u001b[0m: "
     ]
    }
   ],
   "source": [
    "# Cell 7: Training loop (run this cell multiple times to train)\n",
    "n_steps = 20000\n",
    "log = defaultdict(list)\n",
    "\n",
    "for step in range(n_steps):\n",
    "    rule_train = np.random.choice(rules_dict[hp['ruleset']])\n",
    "    trial = generate_trials(rule_train, hp, 'random', batch_size=hp['batch_size_train'])\n",
    "    \n",
    "    feed_dict = tools.gen_feed_dict(model, trial, hp)\n",
    "    x = feed_dict['x'].to(device)\n",
    "    y = feed_dict['y'].to(device)\n",
    "    c_mask = feed_dict['c_mask'].to(device)\n",
    "    \n",
    "    optimizer.zero_grad()\n",
    "    y_hat, loss = model(x, y, c_mask)\n",
    "    loss.backward()\n",
    "    optimizer.step()\n",
    "    \n",
    "    log['loss'].append(loss.item())\n",
    "    \n",
    "    if step % 200 == 199:\n",
    "        print(f\"Step {step + 1}, Loss: {loss.item()}\")"
   ]
  },
  {
   "cell_type": "code",
   "execution_count": null,
   "metadata": {},
   "outputs": [],
   "source": [
    "# Cell 8: Plot training loss\n",
    "import matplotlib.pyplot as plt\n",
    "\n",
    "plt.figure(figsize=(10, 5))\n",
    "plt.plot(log['loss'])\n",
    "plt.title('Training Loss')\n",
    "plt.xlabel('Step')\n",
    "plt.ylabel('Loss')\n",
    "plt.show()"
   ]
  },
  {
   "cell_type": "code",
   "execution_count": null,
   "metadata": {},
   "outputs": [],
   "source": [
    "# Cell 9: Evaluation\n",
    "def evaluate(model, hp, device, n_eval=10):\n",
    "    model.eval()\n",
    "    eval_loss = []\n",
    "    for _ in range(n_eval):\n",
    "        rule_test = np.random.choice(rules_dict[hp['ruleset']])\n",
    "        trial = generate_trials(rule_test, hp, 'random', batch_size=hp['batch_size_test'])\n",
    "        \n",
    "        feed_dict = tools.gen_feed_dict(model, trial, hp)\n",
    "        x = feed_dict['x'].to(device)\n",
    "        y = feed_dict['y'].to(device)\n",
    "        c_mask = feed_dict['c_mask'].to(device)\n",
    "        \n",
    "        with torch.no_grad():\n",
    "            y_hat, loss = model(x, y, c_mask)\n",
    "        \n",
    "        eval_loss.append(loss.item())\n",
    "    \n",
    "    model.train()\n",
    "    return np.mean(eval_loss)\n",
    "\n",
    "eval_loss = evaluate(model, hp, device)\n",
    "print(f\"Evaluation Loss: {eval_loss}\")\n"
   ]
  },
  {
   "cell_type": "code",
   "execution_count": null,
   "metadata": {},
   "outputs": [],
   "source": [
    "\n",
    "# Cell 10: Save the model\n",
    "model.save(model_dir)\n",
    "print(f\"Model saved to {model_dir}\")"
   ]
  }
 ],
 "metadata": {
  "kernelspec": {
   "display_name": "venv1",
   "language": "python",
   "name": "python3"
  },
  "language_info": {
   "codemirror_mode": {
    "name": "ipython",
    "version": 3
   },
   "file_extension": ".py",
   "mimetype": "text/x-python",
   "name": "python",
   "nbconvert_exporter": "python",
   "pygments_lexer": "ipython3",
   "version": "3.11.6"
  }
 },
 "nbformat": 4,
 "nbformat_minor": 2
}
