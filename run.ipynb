{
 "cells": [
  {
   "cell_type": "code",
   "execution_count": 1,
   "metadata": {},
   "outputs": [],
   "source": [
    "import os\n",
    "import numpy as np\n",
    "import torch\n",
    "import torch.optim as optim\n",
    "from collections import defaultdict\n",
    "import time\n",
    "\n",
    "# Import your custom modules\n",
    "import tools\n",
    "from network import Model\n",
    "from task import generate_trials, rules_dict"
   ]
  },
  {
   "cell_type": "code",
   "execution_count": 2,
   "metadata": {},
   "outputs": [],
   "source": [
    "# Cell 1: Set up the environment and hyperparameters\n",
    "model_dir = 'data/debug'\n",
    "os.makedirs(model_dir, exist_ok=True)\n",
    "\n",
    "hp = {\n",
    "    'activation': 'relu',\n",
    "    'n_rnn': 256,\n",
    "    'learning_rate': 0.001,\n",
    "    'l2_h': 0.,\n",
    "    'use_separate_input': False,\n",
    "    'ruleset': 'all',\n",
    "    'batch_size_train': 64,\n",
    "    'batch_size_test': 512,\n",
    "    'seed': 0\n",
    "}"
   ]
  },
  {
   "cell_type": "code",
   "execution_count": 3,
   "metadata": {},
   "outputs": [
    {
     "name": "stdout",
     "output_type": "stream",
     "text": [
      "Using device: cpu\n"
     ]
    },
    {
     "data": {
      "text/plain": [
       "<torch._C.Generator at 0x1106ab3f0>"
      ]
     },
     "execution_count": 3,
     "metadata": {},
     "output_type": "execute_result"
    }
   ],
   "source": [
    "# Cell 2: Initialize the model and other components\n",
    "device = torch.device(\"cuda\" if torch.cuda.is_available() else \"cpu\")\n",
    "print(f\"Using device: {device}\")\n",
    "\n",
    "# Get default hyperparameters and update with custom ones\n",
    "default_hp = tools.get_default_hp(hp['ruleset'])\n",
    "default_hp.update(hp)\n",
    "hp = default_hp\n",
    "\n",
    "# Set random seed\n",
    "np.random.seed(hp['seed'])\n",
    "torch.manual_seed(hp['seed'])"
   ]
  },
  {
   "cell_type": "code",
   "execution_count": 4,
   "metadata": {},
   "outputs": [
    {
     "name": "stdout",
     "output_type": "stream",
     "text": [
      "Model(\n",
      "  (rnn): LeakyRNNCell()\n",
      "  (output): Linear(in_features=256, out_features=33, bias=True)\n",
      ")\n"
     ]
    },
    {
     "name": "stderr",
     "output_type": "stream",
     "text": [
      "/Users/ismaelrobles-razzaq/cs_projects/venv1/lib/python3.11/site-packages/tqdm/auto.py:21: TqdmWarning: IProgress not found. Please update jupyter and ipywidgets. See https://ipywidgets.readthedocs.io/en/stable/user_install.html\n",
      "  from .autonotebook import tqdm as notebook_tqdm\n"
     ]
    }
   ],
   "source": [
    "# Initialize the model\n",
    "model = Model(model_dir, hp=hp).to(device)\n",
    "print(model)\n",
    "\n",
    "# Set up the optimizer\n",
    "optimizer = optim.Adam(model.parameters(), lr=hp['learning_rate'])"
   ]
  },
  {
   "cell_type": "code",
   "execution_count": 5,
   "metadata": {},
   "outputs": [
    {
     "ename": "KeyError",
     "evalue": "'rng'",
     "output_type": "error",
     "traceback": [
      "\u001b[0;31m---------------------------------------------------------------------------\u001b[0m",
      "\u001b[0;31mKeyError\u001b[0m                                  Traceback (most recent call last)",
      "Cell \u001b[0;32mIn[5], line 3\u001b[0m\n\u001b[1;32m      1\u001b[0m \u001b[38;5;66;03m# Cell 3: Generate a trial batch\u001b[39;00m\n\u001b[1;32m      2\u001b[0m rule_train \u001b[38;5;241m=\u001b[39m np\u001b[38;5;241m.\u001b[39mrandom\u001b[38;5;241m.\u001b[39mchoice(rules_dict[hp[\u001b[38;5;124m'\u001b[39m\u001b[38;5;124mruleset\u001b[39m\u001b[38;5;124m'\u001b[39m]])\n\u001b[0;32m----> 3\u001b[0m trial \u001b[38;5;241m=\u001b[39m \u001b[43mgenerate_trials\u001b[49m\u001b[43m(\u001b[49m\u001b[43mrule_train\u001b[49m\u001b[43m,\u001b[49m\u001b[43m \u001b[49m\u001b[43mhp\u001b[49m\u001b[43m,\u001b[49m\u001b[43m \u001b[49m\u001b[38;5;124;43m'\u001b[39;49m\u001b[38;5;124;43mrandom\u001b[39;49m\u001b[38;5;124;43m'\u001b[39;49m\u001b[43m,\u001b[49m\u001b[43m \u001b[49m\u001b[43mbatch_size\u001b[49m\u001b[38;5;241;43m=\u001b[39;49m\u001b[43mhp\u001b[49m\u001b[43m[\u001b[49m\u001b[38;5;124;43m'\u001b[39;49m\u001b[38;5;124;43mbatch_size_train\u001b[39;49m\u001b[38;5;124;43m'\u001b[39;49m\u001b[43m]\u001b[49m\u001b[43m)\u001b[49m\n\u001b[1;32m      5\u001b[0m \u001b[38;5;28mprint\u001b[39m(\u001b[38;5;124mf\u001b[39m\u001b[38;5;124m\"\u001b[39m\u001b[38;5;124mGenerated trial for rule: \u001b[39m\u001b[38;5;132;01m{\u001b[39;00mrule_train\u001b[38;5;132;01m}\u001b[39;00m\u001b[38;5;124m\"\u001b[39m)\n\u001b[1;32m      6\u001b[0m \u001b[38;5;28mprint\u001b[39m(\u001b[38;5;124mf\u001b[39m\u001b[38;5;124m\"\u001b[39m\u001b[38;5;124mTrial x shape: \u001b[39m\u001b[38;5;132;01m{\u001b[39;00mtrial\u001b[38;5;241m.\u001b[39mx\u001b[38;5;241m.\u001b[39mshape\u001b[38;5;132;01m}\u001b[39;00m\u001b[38;5;124m\"\u001b[39m)\n",
      "File \u001b[0;32m~/cs_projects/research/multitask_to_torch_real/task.py:1574\u001b[0m, in \u001b[0;36mgenerate_trials\u001b[0;34m(rule, hp, mode, noise_on, **kwargs)\u001b[0m\n\u001b[1;32m   1562\u001b[0m \u001b[38;5;250m\u001b[39m\u001b[38;5;124;03m\"\"\"Generate one batch of data.\u001b[39;00m\n\u001b[1;32m   1563\u001b[0m \n\u001b[1;32m   1564\u001b[0m \u001b[38;5;124;03mArgs:\u001b[39;00m\n\u001b[0;32m   (...)\u001b[0m\n\u001b[1;32m   1571\u001b[0m \u001b[38;5;124;03m    trial: Trial class instance, containing input and target output\u001b[39;00m\n\u001b[1;32m   1572\u001b[0m \u001b[38;5;124;03m\"\"\"\u001b[39;00m\n\u001b[1;32m   1573\u001b[0m config \u001b[38;5;241m=\u001b[39m hp\n\u001b[0;32m-> 1574\u001b[0m trial \u001b[38;5;241m=\u001b[39m \u001b[43mrule_mapping\u001b[49m\u001b[43m[\u001b[49m\u001b[43mrule\u001b[49m\u001b[43m]\u001b[49m\u001b[43m(\u001b[49m\u001b[43mconfig\u001b[49m\u001b[43m,\u001b[49m\u001b[43m \u001b[49m\u001b[43mmode\u001b[49m\u001b[43m,\u001b[49m\u001b[43m \u001b[49m\u001b[38;5;241;43m*\u001b[39;49m\u001b[38;5;241;43m*\u001b[39;49m\u001b[43mkwargs\u001b[49m\u001b[43m)\u001b[49m\n\u001b[1;32m   1576\u001b[0m \u001b[38;5;66;03m# Add rule input to every task\u001b[39;00m\n\u001b[1;32m   1577\u001b[0m \u001b[38;5;28;01mif\u001b[39;00m \u001b[38;5;124m'\u001b[39m\u001b[38;5;124mrule_on\u001b[39m\u001b[38;5;124m'\u001b[39m \u001b[38;5;129;01min\u001b[39;00m kwargs:\n",
      "File \u001b[0;32m~/cs_projects/research/multitask_to_torch_real/task.py:899\u001b[0m, in \u001b[0;36mdelaydm2\u001b[0;34m(config, mode, **kwargs)\u001b[0m\n\u001b[1;32m    898\u001b[0m \u001b[38;5;28;01mdef\u001b[39;00m \u001b[38;5;21mdelaydm2\u001b[39m(config, mode, \u001b[38;5;241m*\u001b[39m\u001b[38;5;241m*\u001b[39mkwargs):\n\u001b[0;32m--> 899\u001b[0m     \u001b[38;5;28;01mreturn\u001b[39;00m \u001b[43m_delaydm\u001b[49m\u001b[43m(\u001b[49m\u001b[43mconfig\u001b[49m\u001b[43m,\u001b[49m\u001b[43m \u001b[49m\u001b[43mmode\u001b[49m\u001b[43m,\u001b[49m\u001b[43m \u001b[49m\u001b[38;5;241;43m2\u001b[39;49m\u001b[43m,\u001b[49m\u001b[43m \u001b[49m\u001b[38;5;241;43m*\u001b[39;49m\u001b[38;5;241;43m*\u001b[39;49m\u001b[43mkwargs\u001b[49m\u001b[43m)\u001b[49m\n",
      "File \u001b[0;32m~/cs_projects/research/multitask_to_torch_real/task.py:795\u001b[0m, in \u001b[0;36m_delaydm\u001b[0;34m(config, mode, stim_mod, **kwargs)\u001b[0m\n\u001b[1;32m    777\u001b[0m \u001b[38;5;250m\u001b[39m\u001b[38;5;124;03m'''\u001b[39;00m\n\u001b[1;32m    778\u001b[0m \u001b[38;5;124;03mFixate whenever fixation point is shown.\u001b[39;00m\n\u001b[1;32m    779\u001b[0m \u001b[38;5;124;03mTwo stimuluss are shown at different time, with different intensities\u001b[39;00m\n\u001b[0;32m   (...)\u001b[0m\n\u001b[1;32m    792\u001b[0m \u001b[38;5;124;03m:return: 2 Tensor3 data array (Time, Batchsize, Units)\u001b[39;00m\n\u001b[1;32m    793\u001b[0m \u001b[38;5;124;03m'''\u001b[39;00m\n\u001b[1;32m    794\u001b[0m dt \u001b[38;5;241m=\u001b[39m config[\u001b[38;5;124m'\u001b[39m\u001b[38;5;124mdt\u001b[39m\u001b[38;5;124m'\u001b[39m]\n\u001b[0;32m--> 795\u001b[0m rng \u001b[38;5;241m=\u001b[39m \u001b[43mconfig\u001b[49m\u001b[43m[\u001b[49m\u001b[38;5;124;43m'\u001b[39;49m\u001b[38;5;124;43mrng\u001b[39;49m\u001b[38;5;124;43m'\u001b[39;49m\u001b[43m]\u001b[49m\n\u001b[1;32m    796\u001b[0m \u001b[38;5;28;01mif\u001b[39;00m mode \u001b[38;5;241m==\u001b[39m \u001b[38;5;124m'\u001b[39m\u001b[38;5;124mrandom\u001b[39m\u001b[38;5;124m'\u001b[39m: \u001b[38;5;66;03m# Randomly generate parameters\u001b[39;00m\n\u001b[1;32m    797\u001b[0m     batch_size \u001b[38;5;241m=\u001b[39m kwargs[\u001b[38;5;124m'\u001b[39m\u001b[38;5;124mbatch_size\u001b[39m\u001b[38;5;124m'\u001b[39m]\n",
      "\u001b[0;31mKeyError\u001b[0m: 'rng'"
     ]
    }
   ],
   "source": [
    "# Cell 3: Generate a trial batch\n",
    "rule_train = np.random.choice(rules_dict[hp['ruleset']])\n",
    "trial = generate_trials(rule_train, hp, 'random', batch_size=hp['batch_size_train'])\n",
    "\n",
    "print(f\"Generated trial for rule: {rule_train}\")\n",
    "print(f\"Trial x shape: {trial.x.shape}\")\n",
    "print(f\"Trial y shape: {trial.y.shape}\")\n"
   ]
  },
  {
   "cell_type": "code",
   "execution_count": 6,
   "metadata": {},
   "outputs": [
    {
     "ename": "NameError",
     "evalue": "name 'trial' is not defined",
     "output_type": "error",
     "traceback": [
      "\u001b[0;31m---------------------------------------------------------------------------\u001b[0m",
      "\u001b[0;31mNameError\u001b[0m                                 Traceback (most recent call last)",
      "Cell \u001b[0;32mIn[6], line 2\u001b[0m\n\u001b[1;32m      1\u001b[0m \u001b[38;5;66;03m# Cell 4: Prepare input data\u001b[39;00m\n\u001b[0;32m----> 2\u001b[0m feed_dict \u001b[38;5;241m=\u001b[39m tools\u001b[38;5;241m.\u001b[39mgen_feed_dict(model, \u001b[43mtrial\u001b[49m, hp)\n\u001b[1;32m      3\u001b[0m x \u001b[38;5;241m=\u001b[39m feed_dict[\u001b[38;5;124m'\u001b[39m\u001b[38;5;124mx\u001b[39m\u001b[38;5;124m'\u001b[39m]\u001b[38;5;241m.\u001b[39mto(device)\n\u001b[1;32m      4\u001b[0m y \u001b[38;5;241m=\u001b[39m feed_dict[\u001b[38;5;124m'\u001b[39m\u001b[38;5;124my\u001b[39m\u001b[38;5;124m'\u001b[39m]\u001b[38;5;241m.\u001b[39mto(device)\n",
      "\u001b[0;31mNameError\u001b[0m: name 'trial' is not defined"
     ]
    }
   ],
   "source": [
    "# Cell 4: Prepare input data\n",
    "feed_dict = tools.gen_feed_dict(model, trial, hp)\n",
    "x = feed_dict['x'].to(device)\n",
    "y = feed_dict['y'].to(device)\n",
    "c_mask = feed_dict['c_mask'].to(device)\n",
    "\n",
    "print(f\"Input x shape: {x.shape}\")\n",
    "print(f\"Input y shape: {y.shape}\")\n",
    "print(f\"Input c_mask shape: {c_mask.shape}\")"
   ]
  },
  {
   "cell_type": "code",
   "execution_count": null,
   "metadata": {},
   "outputs": [],
   "source": [
    "# Cell 5: Forward pass\n",
    "try:\n",
    "    y_hat, loss = model(x, y, c_mask)\n",
    "    print(f\"Forward pass successful\")\n",
    "    print(f\"Output y_hat shape: {y_hat.shape}\")\n",
    "    print(f\"Loss: {loss.item()}\")\n",
    "except Exception as e:\n",
    "    print(f\"Error during forward pass: {str(e)}\")"
   ]
  },
  {
   "cell_type": "code",
   "execution_count": 7,
   "metadata": {},
   "outputs": [
    {
     "name": "stdout",
     "output_type": "stream",
     "text": [
      "Error during backward pass: name 'loss' is not defined\n"
     ]
    }
   ],
   "source": [
    "# Cell 6: Backward pass\n",
    "try:\n",
    "    optimizer.zero_grad()\n",
    "    loss.backward()\n",
    "    optimizer.step()\n",
    "    print(\"Backward pass successful\")\n",
    "except Exception as e:\n",
    "    print(f\"Error during backward pass: {str(e)}\")"
   ]
  },
  {
   "cell_type": "code",
   "execution_count": null,
   "metadata": {},
   "outputs": [],
   "source": [
    "# Cell 7: Training loop (run this cell multiple times to train)\n",
    "n_steps = 100\n",
    "log = defaultdict(list)\n",
    "\n",
    "for step in range(n_steps):\n",
    "    rule_train = np.random.choice(rules_dict[hp['ruleset']])\n",
    "    trial = generate_trials(rule_train, hp, 'random', batch_size=hp['batch_size_train'])\n",
    "    \n",
    "    feed_dict = tools.gen_feed_dict(model, trial, hp)\n",
    "    x = feed_dict['x'].to(device)\n",
    "    y = feed_dict['y'].to(device)\n",
    "    c_mask = feed_dict['c_mask'].to(device)\n",
    "    \n",
    "    optimizer.zero_grad()\n",
    "    y_hat, loss = model(x, y, c_mask)\n",
    "    loss.backward()\n",
    "    optimizer.step()\n",
    "    \n",
    "    log['loss'].append(loss.item())\n",
    "    \n",
    "    if step % 10 == 0:\n",
    "        print(f\"Step {step}, Loss: {loss.item()}\")"
   ]
  },
  {
   "cell_type": "code",
   "execution_count": null,
   "metadata": {},
   "outputs": [],
   "source": [
    "# Cell 8: Plot training loss\n",
    "import matplotlib.pyplot as plt\n",
    "\n",
    "plt.figure(figsize=(10, 5))\n",
    "plt.plot(log['loss'])\n",
    "plt.title('Training Loss')\n",
    "plt.xlabel('Step')\n",
    "plt.ylabel('Loss')\n",
    "plt.show()"
   ]
  },
  {
   "cell_type": "code",
   "execution_count": null,
   "metadata": {},
   "outputs": [],
   "source": [
    "# Cell 9: Evaluation\n",
    "def evaluate(model, hp, device, n_eval=10):\n",
    "    model.eval()\n",
    "    eval_loss = []\n",
    "    for _ in range(n_eval):\n",
    "        rule_test = np.random.choice(rules_dict[hp['ruleset']])\n",
    "        trial = generate_trials(rule_test, hp, 'random', batch_size=hp['batch_size_test'])\n",
    "        \n",
    "        feed_dict = tools.gen_feed_dict(model, trial, hp)\n",
    "        x = feed_dict['x'].to(device)\n",
    "        y = feed_dict['y'].to(device)\n",
    "        c_mask = feed_dict['c_mask'].to(device)\n",
    "        \n",
    "        with torch.no_grad():\n",
    "            y_hat, loss = model(x, y, c_mask)\n",
    "        \n",
    "        eval_loss.append(loss.item())\n",
    "    \n",
    "    model.train()\n",
    "    return np.mean(eval_loss)\n",
    "\n",
    "eval_loss = evaluate(model, hp, device)\n",
    "print(f\"Evaluation Loss: {eval_loss}\")\n"
   ]
  },
  {
   "cell_type": "code",
   "execution_count": null,
   "metadata": {},
   "outputs": [],
   "source": [
    "\n",
    "# Cell 10: Save the model\n",
    "model.save(model_dir)\n",
    "print(f\"Model saved to {model_dir}\")"
   ]
  }
 ],
 "metadata": {
  "kernelspec": {
   "display_name": "venv1",
   "language": "python",
   "name": "python3"
  },
  "language_info": {
   "codemirror_mode": {
    "name": "ipython",
    "version": 3
   },
   "file_extension": ".py",
   "mimetype": "text/x-python",
   "name": "python",
   "nbconvert_exporter": "python",
   "pygments_lexer": "ipython3",
   "version": "3.11.6"
  }
 },
 "nbformat": 4,
 "nbformat_minor": 2
}
